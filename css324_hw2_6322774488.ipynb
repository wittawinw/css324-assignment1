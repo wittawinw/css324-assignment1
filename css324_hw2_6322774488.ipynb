{
  "nbformat": 4,
  "nbformat_minor": 0,
  "metadata": {
    "colab": {
      "provenance": [],
      "authorship_tag": "ABX9TyNEkD5fGJ3Tl5EdG+p7XhfE",
      "include_colab_link": true
    },
    "kernelspec": {
      "name": "python3",
      "display_name": "Python 3"
    },
    "language_info": {
      "name": "python"
    }
  },
  "cells": [
    {
      "cell_type": "markdown",
      "metadata": {
        "id": "view-in-github",
        "colab_type": "text"
      },
      "source": [
        "<a href=\"https://colab.research.google.com/github/wittawinw/css324-assignment1/blob/main/css324_hw2_6322774488.ipynb\" target=\"_parent\"><img src=\"https://colab.research.google.com/assets/colab-badge.svg\" alt=\"Open In Colab\"/></a>"
      ]
    },
    {
      "cell_type": "code",
      "source": [
        "# CSS324 Homework Assignment 2\n",
        "## Group Member\n",
        "#1.Wittawin Wattanasup 6322774488"
      ],
      "metadata": {
        "id": "mVzm5s7y7-ye"
      },
      "execution_count": 6,
      "outputs": []
    },
    {
      "cell_type": "code",
      "source": [
        "import tensorflow as tf\n",
        "import matplotlib.pyplot as plt\n",
        "import numpy as np\n",
        "from sklearn.model_selection import train_test_split"
      ],
      "metadata": {
        "id": "NErhzritXHw_"
      },
      "execution_count": 22,
      "outputs": []
    },
    {
      "cell_type": "code",
      "source": [
        "(x, y), (x_test, y_test) = tf.keras.datasets.cifar10.load_data()\n",
        "y, y_test = y.flatten(), y_test.flatten()\n",
        "x = x / 255\n",
        "x_test = x_test / 255"
      ],
      "metadata": {
        "id": "xDquOUyeXJ2W"
      },
      "execution_count": 23,
      "outputs": []
    },
    {
      "cell_type": "code",
      "source": [
        "plt.imshow(x[11, :, :, :])\n",
        "plt.show()\n",
        "print(f\"Class= {y[11]}\")  # 7 = horse\n"
      ],
      "metadata": {
        "colab": {
          "base_uri": "https://localhost:8080/",
          "height": 448
        },
        "id": "81G2ZfgLXLgC",
        "outputId": "926ad065-d5af-4d16-f5e4-c613fcf9a209"
      },
      "execution_count": 24,
      "outputs": [
        {
          "output_type": "display_data",
          "data": {
            "text/plain": [
              "<Figure size 640x480 with 1 Axes>"
            ],
            "image/png": "[encoded data removed]"
          },
          "metadata": {}
        },
        {
          "output_type": "stream",
          "name": "stdout",
          "text": [
            "Class= 7\n"
          ]
        }
      ]
    },
    {
      "cell_type": "code",
      "source": [
        "X_train, X_valid, y_train, y_valid = train_test_split(x, y, test_size=0.2, random_state=11)\n",
        "X_test = x_test\n"
      ],
      "metadata": {
        "id": "z2YUNDNWXPAH"
      },
      "execution_count": 25,
      "outputs": []
    },
    {
      "cell_type": "code",
      "source": [
        "Y_train = tf.one_hot(y_train, 10)\n",
        "Y_valid = tf.one_hot(y_valid, 10)\n",
        "Y_test = tf.one_hot(y_test, 10)"
      ],
      "metadata": {
        "id": "R7hkHs3kXPcY"
      },
      "execution_count": 26,
      "outputs": []
    },
    {
      "cell_type": "code",
      "source": [
        "datagen = tf.keras.preprocessing.image.ImageDataGenerator(\n",
        "    rotation_range=15,\n",
        "    width_shift_range=0.1,\n",
        "    height_shift_range=0.1,\n",
        "    horizontal_flip=True,\n",
        ")\n"
      ],
      "metadata": {
        "id": "RxqXQbHsXREN"
      },
      "execution_count": 27,
      "outputs": []
    },
    {
      "cell_type": "code",
      "source": [
        "model = tf.keras.Sequential([\n",
        "    tf.keras.layers.Input(shape=(32, 32, 3)),\n",
        "    tf.keras.layers.Conv2D(32, (3, 3), activation='relu', padding='same'),\n",
        "    tf.keras.layers.MaxPooling2D((2, 2)),\n",
        "    tf.keras.layers.Flatten(),\n",
        "    tf.keras.layers.Dense(256, activation='relu'),\n",
        "    tf.keras.layers.Dropout(0.5),\n",
        "    tf.keras.layers.Dense(10, activation='softmax')\n",
        "])"
      ],
      "metadata": {
        "id": "FUBcWiS7XSzT"
      },
      "execution_count": 28,
      "outputs": []
    },
    {
      "cell_type": "code",
      "source": [
        "model.summary()\n"
      ],
      "metadata": {
        "colab": {
          "base_uri": "https://localhost:8080/"
        },
        "id": "FLnvzjl-XUp9",
        "outputId": "a5be0643-0787-43fc-c0ec-98404c490609"
      },
      "execution_count": 29,
      "outputs": [
        {
          "output_type": "stream",
          "name": "stdout",
          "text": [
            "Model: \"sequential_5\"\n",
            "_________________________________________________________________\n",
            " Layer (type)                Output Shape              Param #   \n",
            "=================================================================\n",
            " conv2d_6 (Conv2D)           (None, 32, 32, 32)        896       \n",
            "                                                                 \n",
            " max_pooling2d_6 (MaxPoolin  (None, 16, 16, 32)        0         \n",
            " g2D)                                                            \n",
            "                                                                 \n",
            " flatten_5 (Flatten)         (None, 8192)              0         \n",
            "                                                                 \n",
            " dense_20 (Dense)            (None, 256)               2097408   \n",
            "                                                                 \n",
            " dropout_15 (Dropout)        (None, 256)               0         \n",
            "                                                                 \n",
            " dense_21 (Dense)            (None, 10)                2570      \n",
            "                                                                 \n",
            "=================================================================\n",
            "Total params: 2100874 (8.01 MB)\n",
            "Trainable params: 2100874 (8.01 MB)\n",
            "Non-trainable params: 0 (0.00 Byte)\n",
            "_________________________________________________________________\n"
          ]
        }
      ]
    },
    {
      "cell_type": "code",
      "source": [
        "model.compile(optimizer=tf.keras.optimizers.Adam(learning_rate=1e-4),\n",
        "              loss='categorical_crossentropy', metrics=['accuracy'])\n"
      ],
      "metadata": {
        "id": "cWgFp4VEXWS9"
      },
      "execution_count": 30,
      "outputs": []
    },
    {
      "cell_type": "code",
      "source": [
        "checkpoint_path = \"best_model.h5\"\n",
        "checkpoint = tf.keras.callbacks.ModelCheckpoint(checkpoint_path, save_best_only=True, monitor='val_accuracy', mode='max', verbose=1)\n"
      ],
      "metadata": {
        "id": "qVc-nLzeXYde"
      },
      "execution_count": 31,
      "outputs": []
    },
    {
      "cell_type": "code",
      "source": [
        "history = model.fit(datagen.flow(X_train, Y_train, batch_size=128),\n",
        "                    validation_data=(X_valid, Y_valid),\n",
        "                    epochs=50,\n",
        "                    callbacks=[checkpoint])"
      ],
      "metadata": {
        "colab": {
          "base_uri": "https://localhost:8080/"
        },
        "id": "r2vPQg1XXaKH",
        "outputId": "0a055a09-a52b-4729-fb75-8fdfcc3dcbce"
      },
      "execution_count": 32,
      "outputs": [
        {
          "output_type": "stream",
          "name": "stdout",
          "text": [
            "Epoch 1/50\n",
            "313/313 [==============================] - ETA: 0s - loss: 1.9954 - accuracy: 0.2820\n",
            "Epoch 1: val_accuracy improved from -inf to 0.39670, saving model to best_model.h5\n",
            "313/313 [==============================] - 76s 240ms/step - loss: 1.9954 - accuracy: 0.2820 - val_loss: 1.7602 - val_accuracy: 0.3967\n",
            "Epoch 2/50\n",
            "313/313 [==============================] - ETA: 0s - loss: 1.7906 - accuracy: 0.3629\n",
            "Epoch 2: val_accuracy improved from 0.39670 to 0.43020, saving model to best_model.h5\n",
            "313/313 [==============================] - 76s 242ms/step - loss: 1.7906 - accuracy: 0.3629 - val_loss: 1.6370 - val_accuracy: 0.4302\n",
            "Epoch 3/50\n",
            "313/313 [==============================] - ETA: 0s - loss: 1.6973 - accuracy: 0.3930\n",
            "Epoch 3: val_accuracy improved from 0.43020 to 0.44710, saving model to best_model.h5\n",
            "313/313 [==============================] - 75s 239ms/step - loss: 1.6973 - accuracy: 0.3930 - val_loss: 1.5596 - val_accuracy: 0.4471\n",
            "Epoch 4/50\n",
            "313/313 [==============================] - ETA: 0s - loss: 1.6361 - accuracy: 0.4155\n",
            "Epoch 4: val_accuracy improved from 0.44710 to 0.46690, saving model to best_model.h5\n",
            "313/313 [==============================] - 77s 245ms/step - loss: 1.6361 - accuracy: 0.4155 - val_loss: 1.5003 - val_accuracy: 0.4669\n",
            "Epoch 5/50\n",
            "313/313 [==============================] - ETA: 0s - loss: 1.5934 - accuracy: 0.4288\n",
            "Epoch 5: val_accuracy improved from 0.46690 to 0.48930, saving model to best_model.h5\n",
            "313/313 [==============================] - 74s 237ms/step - loss: 1.5934 - accuracy: 0.4288 - val_loss: 1.4516 - val_accuracy: 0.4893\n",
            "Epoch 6/50\n",
            "313/313 [==============================] - ETA: 0s - loss: 1.5627 - accuracy: 0.4401\n",
            "Epoch 6: val_accuracy improved from 0.48930 to 0.49040, saving model to best_model.h5\n",
            "313/313 [==============================] - 73s 232ms/step - loss: 1.5627 - accuracy: 0.4401 - val_loss: 1.4526 - val_accuracy: 0.4904\n",
            "Epoch 7/50\n",
            "313/313 [==============================] - ETA: 0s - loss: 1.5301 - accuracy: 0.4539\n",
            "Epoch 7: val_accuracy improved from 0.49040 to 0.50950, saving model to best_model.h5\n",
            "313/313 [==============================] - 75s 238ms/step - loss: 1.5301 - accuracy: 0.4539 - val_loss: 1.3990 - val_accuracy: 0.5095\n",
            "Epoch 8/50\n",
            "313/313 [==============================] - ETA: 0s - loss: 1.5099 - accuracy: 0.4581\n",
            "Epoch 8: val_accuracy improved from 0.50950 to 0.51480, saving model to best_model.h5\n",
            "313/313 [==============================] - 72s 229ms/step - loss: 1.5099 - accuracy: 0.4581 - val_loss: 1.3798 - val_accuracy: 0.5148\n",
            "Epoch 9/50\n",
            "313/313 [==============================] - ETA: 0s - loss: 1.4871 - accuracy: 0.4641\n",
            "Epoch 9: val_accuracy improved from 0.51480 to 0.51850, saving model to best_model.h5\n",
            "313/313 [==============================] - 75s 241ms/step - loss: 1.4871 - accuracy: 0.4641 - val_loss: 1.3665 - val_accuracy: 0.5185\n",
            "Epoch 10/50\n",
            "313/313 [==============================] - ETA: 0s - loss: 1.4680 - accuracy: 0.4775\n",
            "Epoch 10: val_accuracy improved from 0.51850 to 0.52850, saving model to best_model.h5\n",
            "313/313 [==============================] - 74s 234ms/step - loss: 1.4680 - accuracy: 0.4775 - val_loss: 1.3480 - val_accuracy: 0.5285\n",
            "Epoch 11/50\n",
            "313/313 [==============================] - ETA: 0s - loss: 1.4535 - accuracy: 0.4802\n",
            "Epoch 11: val_accuracy improved from 0.52850 to 0.52900, saving model to best_model.h5\n",
            "313/313 [==============================] - 72s 231ms/step - loss: 1.4535 - accuracy: 0.4802 - val_loss: 1.3499 - val_accuracy: 0.5290\n",
            "Epoch 12/50\n",
            "313/313 [==============================] - ETA: 0s - loss: 1.4382 - accuracy: 0.4867\n",
            "Epoch 12: val_accuracy did not improve from 0.52900\n",
            "313/313 [==============================] - 75s 239ms/step - loss: 1.4382 - accuracy: 0.4867 - val_loss: 1.3365 - val_accuracy: 0.5282\n",
            "Epoch 13/50\n",
            "313/313 [==============================] - ETA: 0s - loss: 1.4218 - accuracy: 0.4941\n",
            "Epoch 13: val_accuracy improved from 0.52900 to 0.53750, saving model to best_model.h5\n",
            "313/313 [==============================] - 72s 228ms/step - loss: 1.4218 - accuracy: 0.4941 - val_loss: 1.3024 - val_accuracy: 0.5375\n",
            "Epoch 14/50\n",
            "313/313 [==============================] - ETA: 0s - loss: 1.4168 - accuracy: 0.4961\n",
            "Epoch 14: val_accuracy improved from 0.53750 to 0.55120, saving model to best_model.h5\n",
            "313/313 [==============================] - 74s 235ms/step - loss: 1.4168 - accuracy: 0.4961 - val_loss: 1.2744 - val_accuracy: 0.5512\n",
            "Epoch 15/50\n",
            "313/313 [==============================] - ETA: 0s - loss: 1.3980 - accuracy: 0.4998\n",
            "Epoch 15: val_accuracy did not improve from 0.55120\n",
            "313/313 [==============================] - 75s 240ms/step - loss: 1.3980 - accuracy: 0.4998 - val_loss: 1.3014 - val_accuracy: 0.5391\n",
            "Epoch 16/50\n",
            "313/313 [==============================] - ETA: 0s - loss: 1.3899 - accuracy: 0.5041\n",
            "Epoch 16: val_accuracy improved from 0.55120 to 0.55780, saving model to best_model.h5\n",
            "313/313 [==============================] - 73s 232ms/step - loss: 1.3899 - accuracy: 0.5041 - val_loss: 1.2636 - val_accuracy: 0.5578\n",
            "Epoch 17/50\n",
            "313/313 [==============================] - ETA: 0s - loss: 1.3743 - accuracy: 0.5106\n",
            "Epoch 17: val_accuracy did not improve from 0.55780\n",
            "313/313 [==============================] - 72s 229ms/step - loss: 1.3743 - accuracy: 0.5106 - val_loss: 1.2655 - val_accuracy: 0.5576\n",
            "Epoch 18/50\n",
            "313/313 [==============================] - ETA: 0s - loss: 1.3633 - accuracy: 0.5141\n",
            "Epoch 18: val_accuracy improved from 0.55780 to 0.56390, saving model to best_model.h5\n",
            "313/313 [==============================] - 73s 233ms/step - loss: 1.3633 - accuracy: 0.5141 - val_loss: 1.2423 - val_accuracy: 0.5639\n",
            "Epoch 19/50\n",
            "313/313 [==============================] - ETA: 0s - loss: 1.3592 - accuracy: 0.5159\n",
            "Epoch 19: val_accuracy did not improve from 0.56390\n",
            "313/313 [==============================] - 73s 233ms/step - loss: 1.3592 - accuracy: 0.5159 - val_loss: 1.2571 - val_accuracy: 0.5548\n",
            "Epoch 20/50\n",
            "313/313 [==============================] - ETA: 0s - loss: 1.3508 - accuracy: 0.5177\n",
            "Epoch 20: val_accuracy improved from 0.56390 to 0.57030, saving model to best_model.h5\n",
            "313/313 [==============================] - 73s 233ms/step - loss: 1.3508 - accuracy: 0.5177 - val_loss: 1.2240 - val_accuracy: 0.5703\n",
            "Epoch 21/50\n",
            "313/313 [==============================] - ETA: 0s - loss: 1.3415 - accuracy: 0.5261\n",
            "Epoch 21: val_accuracy did not improve from 0.57030\n",
            "313/313 [==============================] - 73s 232ms/step - loss: 1.3415 - accuracy: 0.5261 - val_loss: 1.2260 - val_accuracy: 0.5690\n",
            "Epoch 22/50\n",
            "313/313 [==============================] - ETA: 0s - loss: 1.3343 - accuracy: 0.5252\n",
            "Epoch 22: val_accuracy did not improve from 0.57030\n",
            "313/313 [==============================] - 77s 246ms/step - loss: 1.3343 - accuracy: 0.5252 - val_loss: 1.2249 - val_accuracy: 0.5700\n",
            "Epoch 23/50\n",
            "313/313 [==============================] - ETA: 0s - loss: 1.3302 - accuracy: 0.5243\n",
            "Epoch 23: val_accuracy improved from 0.57030 to 0.57340, saving model to best_model.h5\n",
            "313/313 [==============================] - 74s 237ms/step - loss: 1.3302 - accuracy: 0.5243 - val_loss: 1.2216 - val_accuracy: 0.5734\n",
            "Epoch 24/50\n",
            "313/313 [==============================] - ETA: 0s - loss: 1.3206 - accuracy: 0.5280\n",
            "Epoch 24: val_accuracy did not improve from 0.57340\n",
            "313/313 [==============================] - 73s 234ms/step - loss: 1.3206 - accuracy: 0.5280 - val_loss: 1.2276 - val_accuracy: 0.5662\n",
            "Epoch 25/50\n",
            "313/313 [==============================] - ETA: 0s - loss: 1.3162 - accuracy: 0.5318\n",
            "Epoch 25: val_accuracy improved from 0.57340 to 0.58590, saving model to best_model.h5\n",
            "313/313 [==============================] - 73s 233ms/step - loss: 1.3162 - accuracy: 0.5318 - val_loss: 1.1835 - val_accuracy: 0.5859\n",
            "Epoch 26/50\n",
            "313/313 [==============================] - ETA: 0s - loss: 1.3063 - accuracy: 0.5343\n",
            "Epoch 26: val_accuracy improved from 0.58590 to 0.58850, saving model to best_model.h5\n",
            "313/313 [==============================] - 71s 228ms/step - loss: 1.3063 - accuracy: 0.5343 - val_loss: 1.1771 - val_accuracy: 0.5885\n",
            "Epoch 27/50\n",
            "313/313 [==============================] - ETA: 0s - loss: 1.2974 - accuracy: 0.5388\n",
            "Epoch 27: val_accuracy improved from 0.58850 to 0.59170, saving model to best_model.h5\n",
            "313/313 [==============================] - 73s 232ms/step - loss: 1.2974 - accuracy: 0.5388 - val_loss: 1.1693 - val_accuracy: 0.5917\n",
            "Epoch 28/50\n",
            "313/313 [==============================] - ETA: 0s - loss: 1.2919 - accuracy: 0.5426\n",
            "Epoch 28: val_accuracy improved from 0.59170 to 0.59840, saving model to best_model.h5\n",
            "313/313 [==============================] - 75s 239ms/step - loss: 1.2919 - accuracy: 0.5426 - val_loss: 1.1536 - val_accuracy: 0.5984\n",
            "Epoch 29/50\n",
            "313/313 [==============================] - ETA: 0s - loss: 1.2914 - accuracy: 0.5408\n",
            "Epoch 29: val_accuracy did not improve from 0.59840\n",
            "313/313 [==============================] - 74s 238ms/step - loss: 1.2914 - accuracy: 0.5408 - val_loss: 1.1758 - val_accuracy: 0.5882\n",
            "Epoch 30/50\n",
            "313/313 [==============================] - ETA: 0s - loss: 1.2849 - accuracy: 0.5444\n",
            "Epoch 30: val_accuracy did not improve from 0.59840\n",
            "313/313 [==============================] - 73s 233ms/step - loss: 1.2849 - accuracy: 0.5444 - val_loss: 1.1705 - val_accuracy: 0.5843\n",
            "Epoch 31/50\n",
            "313/313 [==============================] - ETA: 0s - loss: 1.2799 - accuracy: 0.5458\n",
            "Epoch 31: val_accuracy did not improve from 0.59840\n",
            "313/313 [==============================] - 73s 233ms/step - loss: 1.2799 - accuracy: 0.5458 - val_loss: 1.1430 - val_accuracy: 0.5968\n",
            "Epoch 32/50\n",
            "313/313 [==============================] - ETA: 0s - loss: 1.2689 - accuracy: 0.5493\n",
            "Epoch 32: val_accuracy improved from 0.59840 to 0.59910, saving model to best_model.h5\n",
            "313/313 [==============================] - 75s 239ms/step - loss: 1.2689 - accuracy: 0.5493 - val_loss: 1.1384 - val_accuracy: 0.5991\n",
            "Epoch 33/50\n",
            "313/313 [==============================] - ETA: 0s - loss: 1.2638 - accuracy: 0.5522\n",
            "Epoch 33: val_accuracy did not improve from 0.59910\n",
            "313/313 [==============================] - 73s 232ms/step - loss: 1.2638 - accuracy: 0.5522 - val_loss: 1.1712 - val_accuracy: 0.5872\n",
            "Epoch 34/50\n",
            "313/313 [==============================] - ETA: 0s - loss: 1.2591 - accuracy: 0.5515\n",
            "Epoch 34: val_accuracy did not improve from 0.59910\n",
            "313/313 [==============================] - 77s 246ms/step - loss: 1.2591 - accuracy: 0.5515 - val_loss: 1.1410 - val_accuracy: 0.5966\n",
            "Epoch 35/50\n",
            "313/313 [==============================] - ETA: 0s - loss: 1.2593 - accuracy: 0.5502\n",
            "Epoch 35: val_accuracy improved from 0.59910 to 0.60440, saving model to best_model.h5\n",
            "313/313 [==============================] - 75s 239ms/step - loss: 1.2593 - accuracy: 0.5502 - val_loss: 1.1171 - val_accuracy: 0.6044\n",
            "Epoch 36/50\n",
            "313/313 [==============================] - ETA: 0s - loss: 1.2523 - accuracy: 0.5572\n",
            "Epoch 36: val_accuracy did not improve from 0.60440\n",
            "313/313 [==============================] - 73s 232ms/step - loss: 1.2523 - accuracy: 0.5572 - val_loss: 1.1210 - val_accuracy: 0.6029\n",
            "Epoch 37/50\n",
            "313/313 [==============================] - ETA: 0s - loss: 1.2526 - accuracy: 0.5558\n",
            "Epoch 37: val_accuracy improved from 0.60440 to 0.60620, saving model to best_model.h5\n",
            "313/313 [==============================] - 72s 229ms/step - loss: 1.2526 - accuracy: 0.5558 - val_loss: 1.1202 - val_accuracy: 0.6062\n",
            "Epoch 38/50\n",
            "313/313 [==============================] - ETA: 0s - loss: 1.2469 - accuracy: 0.5580\n",
            "Epoch 38: val_accuracy improved from 0.60620 to 0.60890, saving model to best_model.h5\n",
            "313/313 [==============================] - 73s 233ms/step - loss: 1.2469 - accuracy: 0.5580 - val_loss: 1.1172 - val_accuracy: 0.6089\n",
            "Epoch 39/50\n",
            "313/313 [==============================] - ETA: 0s - loss: 1.2393 - accuracy: 0.5589\n",
            "Epoch 39: val_accuracy improved from 0.60890 to 0.61260, saving model to best_model.h5\n",
            "313/313 [==============================] - 73s 232ms/step - loss: 1.2393 - accuracy: 0.5589 - val_loss: 1.1052 - val_accuracy: 0.6126\n",
            "Epoch 40/50\n",
            "313/313 [==============================] - ETA: 0s - loss: 1.2361 - accuracy: 0.5616\n",
            "Epoch 40: val_accuracy did not improve from 0.61260\n",
            "313/313 [==============================] - 74s 238ms/step - loss: 1.2361 - accuracy: 0.5616 - val_loss: 1.1070 - val_accuracy: 0.6112\n",
            "Epoch 41/50\n",
            "313/313 [==============================] - ETA: 0s - loss: 1.2349 - accuracy: 0.5637\n",
            "Epoch 41: val_accuracy did not improve from 0.61260\n",
            "313/313 [==============================] - 76s 243ms/step - loss: 1.2349 - accuracy: 0.5637 - val_loss: 1.1159 - val_accuracy: 0.6056\n",
            "Epoch 42/50\n",
            "313/313 [==============================] - ETA: 0s - loss: 1.2296 - accuracy: 0.5660\n",
            "Epoch 42: val_accuracy did not improve from 0.61260\n",
            "313/313 [==============================] - 74s 236ms/step - loss: 1.2296 - accuracy: 0.5660 - val_loss: 1.1174 - val_accuracy: 0.6041\n",
            "Epoch 43/50\n",
            "313/313 [==============================] - ETA: 0s - loss: 1.2255 - accuracy: 0.5667\n",
            "Epoch 43: val_accuracy improved from 0.61260 to 0.61660, saving model to best_model.h5\n",
            "313/313 [==============================] - 78s 248ms/step - loss: 1.2255 - accuracy: 0.5667 - val_loss: 1.0896 - val_accuracy: 0.6166\n",
            "Epoch 44/50\n",
            "313/313 [==============================] - ETA: 0s - loss: 1.2192 - accuracy: 0.5679\n",
            "Epoch 44: val_accuracy did not improve from 0.61660\n",
            "313/313 [==============================] - 73s 232ms/step - loss: 1.2192 - accuracy: 0.5679 - val_loss: 1.1087 - val_accuracy: 0.6101\n",
            "Epoch 45/50\n",
            "313/313 [==============================] - ETA: 0s - loss: 1.2171 - accuracy: 0.5713\n",
            "Epoch 45: val_accuracy did not improve from 0.61660\n",
            "313/313 [==============================] - 74s 234ms/step - loss: 1.2171 - accuracy: 0.5713 - val_loss: 1.1153 - val_accuracy: 0.6113\n",
            "Epoch 46/50\n",
            "313/313 [==============================] - ETA: 0s - loss: 1.2137 - accuracy: 0.5674\n",
            "Epoch 46: val_accuracy did not improve from 0.61660\n",
            "313/313 [==============================] - 73s 235ms/step - loss: 1.2137 - accuracy: 0.5674 - val_loss: 1.0890 - val_accuracy: 0.6158\n",
            "Epoch 47/50\n",
            "313/313 [==============================] - ETA: 0s - loss: 1.2079 - accuracy: 0.5724\n",
            "Epoch 47: val_accuracy improved from 0.61660 to 0.62430, saving model to best_model.h5\n",
            "313/313 [==============================] - 75s 241ms/step - loss: 1.2079 - accuracy: 0.5724 - val_loss: 1.0674 - val_accuracy: 0.6243\n",
            "Epoch 48/50\n",
            "313/313 [==============================] - ETA: 0s - loss: 1.2037 - accuracy: 0.5729\n",
            "Epoch 48: val_accuracy did not improve from 0.62430\n",
            "313/313 [==============================] - 73s 233ms/step - loss: 1.2037 - accuracy: 0.5729 - val_loss: 1.0849 - val_accuracy: 0.6136\n",
            "Epoch 49/50\n",
            "313/313 [==============================] - ETA: 0s - loss: 1.2005 - accuracy: 0.5732\n",
            "Epoch 49: val_accuracy improved from 0.62430 to 0.63130, saving model to best_model.h5\n",
            "313/313 [==============================] - 73s 233ms/step - loss: 1.2005 - accuracy: 0.5732 - val_loss: 1.0545 - val_accuracy: 0.6313\n",
            "Epoch 50/50\n",
            "313/313 [==============================] - ETA: 0s - loss: 1.1979 - accuracy: 0.5750\n",
            "Epoch 50: val_accuracy did not improve from 0.63130\n",
            "313/313 [==============================] - 73s 234ms/step - loss: 1.1979 - accuracy: 0.5750 - val_loss: 1.0513 - val_accuracy: 0.6301\n"
          ]
        }
      ]
    },
    {
      "cell_type": "code",
      "source": [
        "model.load_weights(checkpoint_path)"
      ],
      "metadata": {
        "id": "2Nc3sAZDXcLv"
      },
      "execution_count": 33,
      "outputs": []
    },
    {
      "cell_type": "code",
      "source": [
        "plt.plot(history.history['loss'], label='training_loss')\n",
        "plt.plot(history.history['val_loss'], label='val_loss')\n",
        "plt.xlabel('Epoch')\n",
        "plt.ylabel('Loss')\n",
        "plt.legend()\n",
        "plt.show()"
      ],
      "metadata": {
        "colab": {
          "base_uri": "https://localhost:8080/",
          "height": 449
        },
        "id": "ZIaySATGXdmS",
        "outputId": "4a71c2f4-237d-4b04-be08-b1d393949d42"
      },
      "execution_count": 34,
      "outputs": [
        {
          "output_type": "display_data",
          "data": {
            "text/plain": [
              "<Figure size 640x480 with 1 Axes>"
            ],
            "image/png": "[encoded data removed]"
          },
          "metadata": {}
        }
      ]
    },
    {
      "cell_type": "code",
      "source": [
        "train_accuracy = model.evaluate(X_train, Y_train, verbose=0)[1]\n",
        "valid_accuracy = model.evaluate(X_valid, Y_valid, verbose=0)[1]\n",
        "test_accuracy = model.evaluate(X_test, Y_test, verbose=0)[1]\n",
        "\n",
        "print(f\"Training accuracy   = {train_accuracy:.4f}\")\n",
        "print(f\"Validation accuracy = {valid_accuracy:.4f}\")\n",
        "print(f\"Test accuracy       = {test_accuracy:.4f}\")\n"
      ],
      "metadata": {
        "colab": {
          "base_uri": "https://localhost:8080/"
        },
        "id": "p-xWmXz6Xfiy",
        "outputId": "dfc1f7e3-73dd-459b-f163-17b69061453f"
      },
      "execution_count": 35,
      "outputs": [
        {
          "output_type": "stream",
          "name": "stdout",
          "text": [
            "Training accuracy   = 0.6453\n",
            "Validation accuracy = 0.6313\n",
            "Test accuracy       = 0.6304\n"
          ]
        }
      ]
    },
    {
      "cell_type": "code",
      "source": [
        "if test_accuracy >= 0.6:\n",
        "    print(\"Accuracy meets the requirement.\")\n",
        "else:\n",
        "    print(\"Accuracy does not meet the requirement.\")"
      ],
      "metadata": {
        "colab": {
          "base_uri": "https://localhost:8080/"
        },
        "id": "jaARI46WXhcT",
        "outputId": "469857c7-2ce5-4408-ff76-465f213b3c4d"
      },
      "execution_count": 36,
      "outputs": [
        {
          "output_type": "stream",
          "name": "stdout",
          "text": [
            "Accuracy meets the requirement.\n"
          ]
        }
      ]
    }
  ]
}